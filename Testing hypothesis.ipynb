{
 "cells": [
  {
   "cell_type": "code",
   "execution_count": 212,
   "metadata": {},
   "outputs": [],
   "source": [
    "import pandas as pd\n",
    "import numpy as np\n",
    "import datetime as dt\n",
    "from statistics import mean, median\n",
    "%matplotlib inline\n",
    "import matplotlib.pyplot as plt\n",
    "from scipy.stats import shapiro\n",
    "import random\n",
    "from scipy import stats\n",
    "import scipy.stats\n",
    "from scipy.stats import mannwhitneyu"
   ]
  },
  {
   "cell_type": "code",
   "execution_count": 213,
   "metadata": {},
   "outputs": [
    {
     "data": {
      "text/html": [
       "<div>\n",
       "<style scoped>\n",
       "    .dataframe tbody tr th:only-of-type {\n",
       "        vertical-align: middle;\n",
       "    }\n",
       "\n",
       "    .dataframe tbody tr th {\n",
       "        vertical-align: top;\n",
       "    }\n",
       "\n",
       "    .dataframe thead th {\n",
       "        text-align: right;\n",
       "    }\n",
       "</style>\n",
       "<table border=\"1\" class=\"dataframe\">\n",
       "  <thead>\n",
       "    <tr style=\"text-align: right;\">\n",
       "      <th></th>\n",
       "      <th>Unnamed: 0</th>\n",
       "      <th>user_id</th>\n",
       "      <th>hour</th>\n",
       "      <th>surge</th>\n",
       "      <th>app_opened</th>\n",
       "      <th>price_seen</th>\n",
       "      <th>order_made</th>\n",
       "      <th>ride_completed</th>\n",
       "      <th>user_cancelled</th>\n",
       "      <th>city_center_order</th>\n",
       "      <th>distance</th>\n",
       "      <th>age</th>\n",
       "      <th>rfm</th>\n",
       "    </tr>\n",
       "  </thead>\n",
       "  <tbody>\n",
       "    <tr>\n",
       "      <td>0</td>\n",
       "      <td>0</td>\n",
       "      <td>867689</td>\n",
       "      <td>12</td>\n",
       "      <td>no surge</td>\n",
       "      <td>1</td>\n",
       "      <td>1</td>\n",
       "      <td>1</td>\n",
       "      <td>1</td>\n",
       "      <td>0</td>\n",
       "      <td>0</td>\n",
       "      <td>7.982135</td>\n",
       "      <td>20</td>\n",
       "      <td>low</td>\n",
       "    </tr>\n",
       "    <tr>\n",
       "      <td>1</td>\n",
       "      <td>1</td>\n",
       "      <td>752172</td>\n",
       "      <td>5</td>\n",
       "      <td>no surge</td>\n",
       "      <td>1</td>\n",
       "      <td>1</td>\n",
       "      <td>1</td>\n",
       "      <td>1</td>\n",
       "      <td>0</td>\n",
       "      <td>1</td>\n",
       "      <td>2.908468</td>\n",
       "      <td>27</td>\n",
       "      <td>high</td>\n",
       "    </tr>\n",
       "    <tr>\n",
       "      <td>2</td>\n",
       "      <td>2</td>\n",
       "      <td>486559</td>\n",
       "      <td>15</td>\n",
       "      <td>no surge</td>\n",
       "      <td>1</td>\n",
       "      <td>1</td>\n",
       "      <td>1</td>\n",
       "      <td>1</td>\n",
       "      <td>0</td>\n",
       "      <td>0</td>\n",
       "      <td>7.224614</td>\n",
       "      <td>21</td>\n",
       "      <td>high</td>\n",
       "    </tr>\n",
       "    <tr>\n",
       "      <td>3</td>\n",
       "      <td>3</td>\n",
       "      <td>304024</td>\n",
       "      <td>0</td>\n",
       "      <td>no surge</td>\n",
       "      <td>1</td>\n",
       "      <td>1</td>\n",
       "      <td>1</td>\n",
       "      <td>1</td>\n",
       "      <td>0</td>\n",
       "      <td>1</td>\n",
       "      <td>1.874349</td>\n",
       "      <td>52</td>\n",
       "      <td>low</td>\n",
       "    </tr>\n",
       "    <tr>\n",
       "      <td>4</td>\n",
       "      <td>4</td>\n",
       "      <td>139420</td>\n",
       "      <td>0</td>\n",
       "      <td>no surge</td>\n",
       "      <td>1</td>\n",
       "      <td>1</td>\n",
       "      <td>1</td>\n",
       "      <td>1</td>\n",
       "      <td>0</td>\n",
       "      <td>0</td>\n",
       "      <td>10.704778</td>\n",
       "      <td>19</td>\n",
       "      <td>low</td>\n",
       "    </tr>\n",
       "    <tr>\n",
       "      <td>...</td>\n",
       "      <td>...</td>\n",
       "      <td>...</td>\n",
       "      <td>...</td>\n",
       "      <td>...</td>\n",
       "      <td>...</td>\n",
       "      <td>...</td>\n",
       "      <td>...</td>\n",
       "      <td>...</td>\n",
       "      <td>...</td>\n",
       "      <td>...</td>\n",
       "      <td>...</td>\n",
       "      <td>...</td>\n",
       "      <td>...</td>\n",
       "    </tr>\n",
       "    <tr>\n",
       "      <td>101495</td>\n",
       "      <td>101495</td>\n",
       "      <td>288445</td>\n",
       "      <td>16</td>\n",
       "      <td>no surge</td>\n",
       "      <td>1</td>\n",
       "      <td>1</td>\n",
       "      <td>1</td>\n",
       "      <td>1</td>\n",
       "      <td>0</td>\n",
       "      <td>0</td>\n",
       "      <td>1.725907</td>\n",
       "      <td>28</td>\n",
       "      <td>high</td>\n",
       "    </tr>\n",
       "    <tr>\n",
       "      <td>101496</td>\n",
       "      <td>101496</td>\n",
       "      <td>627754</td>\n",
       "      <td>2</td>\n",
       "      <td>surge</td>\n",
       "      <td>1</td>\n",
       "      <td>1</td>\n",
       "      <td>1</td>\n",
       "      <td>1</td>\n",
       "      <td>0</td>\n",
       "      <td>1</td>\n",
       "      <td>6.206134</td>\n",
       "      <td>23</td>\n",
       "      <td>low</td>\n",
       "    </tr>\n",
       "    <tr>\n",
       "      <td>101497</td>\n",
       "      <td>101497</td>\n",
       "      <td>784442</td>\n",
       "      <td>1</td>\n",
       "      <td>no surge</td>\n",
       "      <td>1</td>\n",
       "      <td>1</td>\n",
       "      <td>1</td>\n",
       "      <td>1</td>\n",
       "      <td>0</td>\n",
       "      <td>0</td>\n",
       "      <td>6.624225</td>\n",
       "      <td>21</td>\n",
       "      <td>high</td>\n",
       "    </tr>\n",
       "    <tr>\n",
       "      <td>101498</td>\n",
       "      <td>101498</td>\n",
       "      <td>232993</td>\n",
       "      <td>13</td>\n",
       "      <td>no surge</td>\n",
       "      <td>1</td>\n",
       "      <td>1</td>\n",
       "      <td>1</td>\n",
       "      <td>1</td>\n",
       "      <td>0</td>\n",
       "      <td>0</td>\n",
       "      <td>8.825188</td>\n",
       "      <td>26</td>\n",
       "      <td>high</td>\n",
       "    </tr>\n",
       "    <tr>\n",
       "      <td>101499</td>\n",
       "      <td>101499</td>\n",
       "      <td>337225</td>\n",
       "      <td>21</td>\n",
       "      <td>surge</td>\n",
       "      <td>1</td>\n",
       "      <td>1</td>\n",
       "      <td>1</td>\n",
       "      <td>1</td>\n",
       "      <td>0</td>\n",
       "      <td>0</td>\n",
       "      <td>0.882172</td>\n",
       "      <td>18</td>\n",
       "      <td>high</td>\n",
       "    </tr>\n",
       "  </tbody>\n",
       "</table>\n",
       "<p>101500 rows × 13 columns</p>\n",
       "</div>"
      ],
      "text/plain": [
       "        Unnamed: 0  user_id  hour     surge  app_opened  price_seen  \\\n",
       "0                0   867689    12  no surge           1           1   \n",
       "1                1   752172     5  no surge           1           1   \n",
       "2                2   486559    15  no surge           1           1   \n",
       "3                3   304024     0  no surge           1           1   \n",
       "4                4   139420     0  no surge           1           1   \n",
       "...            ...      ...   ...       ...         ...         ...   \n",
       "101495      101495   288445    16  no surge           1           1   \n",
       "101496      101496   627754     2     surge           1           1   \n",
       "101497      101497   784442     1  no surge           1           1   \n",
       "101498      101498   232993    13  no surge           1           1   \n",
       "101499      101499   337225    21     surge           1           1   \n",
       "\n",
       "        order_made  ride_completed  user_cancelled  city_center_order  \\\n",
       "0                1               1               0                  0   \n",
       "1                1               1               0                  1   \n",
       "2                1               1               0                  0   \n",
       "3                1               1               0                  1   \n",
       "4                1               1               0                  0   \n",
       "...            ...             ...             ...                ...   \n",
       "101495           1               1               0                  0   \n",
       "101496           1               1               0                  1   \n",
       "101497           1               1               0                  0   \n",
       "101498           1               1               0                  0   \n",
       "101499           1               1               0                  0   \n",
       "\n",
       "         distance  age   rfm  \n",
       "0        7.982135   20   low  \n",
       "1        2.908468   27  high  \n",
       "2        7.224614   21  high  \n",
       "3        1.874349   52   low  \n",
       "4       10.704778   19   low  \n",
       "...           ...  ...   ...  \n",
       "101495   1.725907   28  high  \n",
       "101496   6.206134   23   low  \n",
       "101497   6.624225   21  high  \n",
       "101498   8.825188   26  high  \n",
       "101499   0.882172   18  high  \n",
       "\n",
       "[101500 rows x 13 columns]"
      ]
     },
     "execution_count": 213,
     "metadata": {},
     "output_type": "execute_result"
    }
   ],
   "source": [
    "data=pd.read_csv('new_dataframe.csv')\n",
    "data"
   ]
  },
  {
   "cell_type": "markdown",
   "metadata": {},
   "source": [
    "### Surge => price-to-order conversion is lower\n",
    "**Hypothesis:** If you offer cashback with bonus points (5% of the cost of the trip) for a train booked during the surge period, the price-to-order conversion will increase by 5pp, because users will be more loyal (tend to order from us) due to nice bonuses.\n",
    "\n",
    "*\"surge\" means rush-hours in this case"
   ]
  },
  {
   "cell_type": "markdown",
   "metadata": {},
   "source": [
    "Conversion (average per user):"
   ]
  },
  {
   "cell_type": "code",
   "execution_count": 90,
   "metadata": {},
   "outputs": [
    {
     "data": {
      "text/plain": [
       "0.7235210107665113"
      ]
     },
     "execution_count": 90,
     "metadata": {},
     "output_type": "execute_result"
    }
   ],
   "source": [
    "#conversion during the period surge\n",
    "a1=data[data['surge']=='surge'][['user_id','price_seen', 'order_made']].groupby('user_id').sum()\n",
    "a1['conversion']=a1['order_made']/a1['price_seen']\n",
    "a1['conversion'].fillna(0,inplace=True)\n",
    "a=list(a1['conversion'])\n",
    "mean(a)"
   ]
  },
  {
   "cell_type": "code",
   "execution_count": 91,
   "metadata": {},
   "outputs": [
    {
     "data": {
      "text/plain": [
       "0.8598660942214716"
      ]
     },
     "execution_count": 91,
     "metadata": {},
     "output_type": "execute_result"
    }
   ],
   "source": [
    "#conversion NOT during the period surge\n",
    "a1=data[data['surge']=='no surge'][['user_id','price_seen', 'order_made']].groupby('user_id').sum()\n",
    "a1['conversion']=a1['order_made']/a1['price_seen']\n",
    "a1['conversion'].fillna(0,inplace=True)\n",
    "a=list(a1['conversion'])\n",
    "mean(a)"
   ]
  },
  {
   "cell_type": "markdown",
   "metadata": {},
   "source": [
    "The difference between the conversion to order during the surge period and during normal times is about **13pp**, so it is quite possible to **increase the conversion during the peak hour by 5pp** if you provide users with bonuses. The evan miller calculator calculated a **required control/test group size of 1300**."
   ]
  },
  {
   "cell_type": "code",
   "execution_count": 214,
   "metadata": {},
   "outputs": [],
   "source": [
    "#leave in the data only those users who made an order during the surge and saw the price of the trip\n",
    "data=data[(data['surge']=='surge') & (data['price_seen']==1)]"
   ]
  },
  {
   "cell_type": "code",
   "execution_count": 217,
   "metadata": {},
   "outputs": [
    {
     "data": {
      "text/plain": [
       "17780"
      ]
     },
     "execution_count": 217,
     "metadata": {},
     "output_type": "execute_result"
    }
   ],
   "source": [
    "#how many users stay\n",
    "data['user_id'].nunique()"
   ]
  },
  {
   "cell_type": "code",
   "execution_count": 218,
   "metadata": {},
   "outputs": [
    {
     "data": {
      "text/plain": [
       "8890"
      ]
     },
     "execution_count": 218,
     "metadata": {},
     "output_type": "execute_result"
    }
   ],
   "source": [
    "#the size of test/control groups\n",
    "users=data['user_id'].unique()\n",
    "users=list(users)\n",
    "control=random.sample(users, int(len(users)/2))\n",
    "test=list(set(users)-set(control))\n",
    "len(control)"
   ]
  },
  {
   "cell_type": "code",
   "execution_count": 219,
   "metadata": {},
   "outputs": [],
   "source": [
    "data_control=data[data['user_id'].isin(control)]\n",
    "data_test=data[data['user_id'].isin(test)]"
   ]
  },
  {
   "cell_type": "code",
   "execution_count": 233,
   "metadata": {},
   "outputs": [
    {
     "name": "stdout",
     "output_type": "stream",
     "text": [
      "15897 15746\n"
     ]
    }
   ],
   "source": [
    "print(len(data_control), len(data_test))"
   ]
  },
  {
   "cell_type": "markdown",
   "metadata": {},
   "source": [
    "Checking the sample for homogeneity according to the criterion **\"average number of orders made per user\"**"
   ]
  },
  {
   "cell_type": "markdown",
   "metadata": {},
   "source": [
    "#### T-test"
   ]
  },
  {
   "cell_type": "code",
   "execution_count": 234,
   "metadata": {},
   "outputs": [],
   "source": [
    "q1=data_control.groupby('user_id')['order_made'].sum().to_list()\n",
    "q2=data_test.groupby('user_id')['order_made'].sum().to_list()"
   ]
  },
  {
   "cell_type": "code",
   "execution_count": 235,
   "metadata": {},
   "outputs": [
    {
     "name": "stdout",
     "output_type": "stream",
     "text": [
      "p-value:  0.0\n",
      "Sample does not look Gaussian (reject H0)\n"
     ]
    }
   ],
   "source": [
    "stat, p = shapiro(q1)\n",
    "alpha = 0.05\n",
    "print('p-value: ', p)\n",
    "if p > alpha:\n",
    "    print('Sample looks Gaussian (fail to reject H0)')\n",
    "else:\n",
    "    print('Sample does not look Gaussian (reject H0)')"
   ]
  },
  {
   "cell_type": "code",
   "execution_count": 236,
   "metadata": {},
   "outputs": [
    {
     "name": "stdout",
     "output_type": "stream",
     "text": [
      "p-value:  0.0\n",
      "Sample does not look Gaussian (reject H0)\n"
     ]
    }
   ],
   "source": [
    "stat, p = shapiro(q2)\n",
    "alpha = 0.05\n",
    "print('p-value: ', p)\n",
    "if p > alpha:\n",
    "    print('Sample looks Gaussian (fail to reject H0)')\n",
    "else:\n",
    "    print('Sample does not look Gaussian (reject H0)')"
   ]
  },
  {
   "cell_type": "code",
   "execution_count": 237,
   "metadata": {},
   "outputs": [
    {
     "data": {
      "text/plain": [
       "<matplotlib.axes._subplots.AxesSubplot at 0x22d82fe8348>"
      ]
     },
     "execution_count": 237,
     "metadata": {},
     "output_type": "execute_result"
    },
    {
     "data": {
      "image/png": "[encoded data removed]",
      "text/plain": [
       "<Figure size 432x288 with 1 Axes>"
      ]
     },
     "metadata": {
      "needs_background": "light"
     },
     "output_type": "display_data"
    }
   ],
   "source": [
    "data_control.groupby('user_id')['order_made'].sum().hist()"
   ]
  },
  {
   "cell_type": "code",
   "execution_count": 238,
   "metadata": {},
   "outputs": [
    {
     "data": {
      "text/plain": [
       "<matplotlib.axes._subplots.AxesSubplot at 0x22dfc00cf88>"
      ]
     },
     "execution_count": 238,
     "metadata": {},
     "output_type": "execute_result"
    },
    {
     "data": {
      "image/png": "[encoded data removed]",
      "text/plain": [
       "<Figure size 432x288 with 1 Axes>"
      ]
     },
     "metadata": {
      "needs_background": "light"
     },
     "output_type": "display_data"
    }
   ],
   "source": [
    "data_test.groupby('user_id')['order_made'].sum().hist()"
   ]
  },
  {
   "cell_type": "markdown",
   "metadata": {},
   "source": [
    "The distributions are not normal, we cannot use the t-test. Perhaps with the help of the logarithm we can bring it to normal"
   ]
  },
  {
   "cell_type": "code",
   "execution_count": 239,
   "metadata": {},
   "outputs": [
    {
     "name": "stderr",
     "output_type": "stream",
     "text": [
      "C:\\ProgramData\\Anaconda3\\lib\\site-packages\\ipykernel_launcher.py:1: RuntimeWarning: divide by zero encountered in log10\n",
      "  \"\"\"Entry point for launching an IPython kernel.\n",
      "C:\\ProgramData\\Anaconda3\\lib\\site-packages\\ipykernel_launcher.py:2: RuntimeWarning: divide by zero encountered in log10\n",
      "  \n"
     ]
    }
   ],
   "source": [
    "log_q1=np.log10(q1)\n",
    "log_q2=np.log10(q2)"
   ]
  },
  {
   "cell_type": "code",
   "execution_count": 241,
   "metadata": {},
   "outputs": [
    {
     "name": "stdout",
     "output_type": "stream",
     "text": [
      "p-value:  1.0\n",
      "Sample looks Gaussian (fail to reject H0)\n"
     ]
    }
   ],
   "source": [
    "stat, p = shapiro(log_q1)\n",
    "alpha = 0.05\n",
    "print('p-value: ', p)\n",
    "if p > alpha:\n",
    "    print('Sample looks Gaussian (fail to reject H0)')\n",
    "else:\n",
    "    print('Sample does not look Gaussian (reject H0)')"
   ]
  },
  {
   "cell_type": "code",
   "execution_count": 242,
   "metadata": {},
   "outputs": [
    {
     "name": "stdout",
     "output_type": "stream",
     "text": [
      "p-value:  1.0\n",
      "Sample looks Gaussian (fail to reject H0)\n"
     ]
    }
   ],
   "source": [
    "stat, p = shapiro(log_q2)\n",
    "alpha = 0.05\n",
    "print('p-value: ', p)\n",
    "if p > alpha:\n",
    "    print('Sample looks Gaussian (fail to reject H0)')\n",
    "else:\n",
    "    print('Sample does not look Gaussian (reject H0)')"
   ]
  },
  {
   "cell_type": "markdown",
   "metadata": {},
   "source": [
    "The distributions are now normal, let's try a t-test"
   ]
  },
  {
   "cell_type": "code",
   "execution_count": 244,
   "metadata": {},
   "outputs": [
    {
     "name": "stderr",
     "output_type": "stream",
     "text": [
      "C:\\ProgramData\\Anaconda3\\lib\\site-packages\\numpy\\core\\_methods.py:202: RuntimeWarning: invalid value encountered in subtract\n",
      "  x = asanyarray(arr - arrmean)\n",
      "C:\\ProgramData\\Anaconda3\\lib\\site-packages\\scipy\\stats\\stats.py:4331: RuntimeWarning: invalid value encountered in double_scalars\n",
      "  d = mean1 - mean2\n"
     ]
    },
    {
     "data": {
      "text/plain": [
       "Ttest_indResult(statistic=nan, pvalue=nan)"
      ]
     },
     "execution_count": 244,
     "metadata": {},
     "output_type": "execute_result"
    }
   ],
   "source": [
    "stats.ttest_ind(log_q1, log_q2)"
   ]
  },
  {
   "cell_type": "markdown",
   "metadata": {},
   "source": [
    "And then there is no logarithm of zero, but we have zero in the data. Apparently the t-test won't work"
   ]
  },
  {
   "cell_type": "markdown",
   "metadata": {},
   "source": [
    "#### Rank test: Mann-Whitney test"
   ]
  },
  {
   "cell_type": "code",
   "execution_count": 248,
   "metadata": {},
   "outputs": [],
   "source": [
    "q1=data_control.groupby('user_id')['order_made'].sum().to_list()\n",
    "q2=data_test.groupby('user_id')['order_made'].sum().to_list()"
   ]
  },
  {
   "cell_type": "code",
   "execution_count": 249,
   "metadata": {},
   "outputs": [
    {
     "name": "stdout",
     "output_type": "stream",
     "text": [
      "two-sample wilcoxon-test 0.38135112975062313\n"
     ]
    }
   ],
   "source": [
    "u, p_value = stats.mannwhitneyu(q1, q2)\n",
    "print(\"two-sample wilcoxon-test\", p_value)"
   ]
  },
  {
   "cell_type": "markdown",
   "metadata": {},
   "source": [
    "**P-value > 0.05**, so the control and test groups are **homogeneous** in terms of the \"average number of orders per user\" metric"
   ]
  },
  {
   "cell_type": "markdown",
   "metadata": {},
   "source": [
    "#### Bootstrap"
   ]
  },
  {
   "cell_type": "code",
   "execution_count": 250,
   "metadata": {},
   "outputs": [],
   "source": [
    "clicks_0=np.array(data_control.groupby('user_id')['order_made'].sum())\n",
    "clicks_1=np.array(data_test.groupby('user_id')['order_made'].sum())"
   ]
  },
  {
   "cell_type": "code",
   "execution_count": 251,
   "metadata": {},
   "outputs": [],
   "source": [
    "views_0=np.array(data_control.groupby('user_id')['price_seen'].sum())\n",
    "views_1=np.array(data_test.groupby('user_id')['price_seen'].sum())"
   ]
  },
  {
   "cell_type": "code",
   "execution_count": 252,
   "metadata": {},
   "outputs": [
    {
     "data": {
      "text/plain": [
       "array([1., 1., 1., ..., 1., 1., 1.])"
      ]
     },
     "execution_count": 252,
     "metadata": {},
     "output_type": "execute_result"
    }
   ],
   "source": [
    "weights_0=np.ones((len(clicks_0)))\n",
    "weights_1=np.ones((len(clicks_1)))\n",
    "weights_0"
   ]
  },
  {
   "cell_type": "code",
   "execution_count": 253,
   "metadata": {},
   "outputs": [],
   "source": [
    "def get_smoothed_ctrs(clicks_0, views_0, clicks_1, views_1, smothing_factor=200.):\n",
    "    \"\"\"\n",
    "    Calculates smoothed ctr for every user in every experiment both in treatment and control groups\n",
    "    Smoothed_ctr = (user_clicks + smothing_factor * global_ctr) / (user_views + smothing_factor)\n",
    "    :param clicks_0: np.array shape (n_experiments, n_users), clicks of every user from control group in every experiment\n",
    "    :param views_0: np.array shape (n_experiments, n_users), views of every user from control group in every experiment\n",
    "    :param clicks_1: np.array shape (n_experiments, n_users), clicks of every user from treatment group in every experiment\n",
    "    :param views_1: np.array shape (n_experiments, n_users), views of every user from treatment group in every experiment\n",
    "    :param smothing_factor: float\n",
    "    :return: (np.array, np.array) shape (n_experiments, n_users), smoothed ctrs for every user in every experiment\n",
    "    \"\"\"\n",
    "    global_ctr = (np.sum(clicks_0) / np.sum(views_0)).reshape(-1, 1)\n",
    "    ctrs_0 = (clicks_0 + smothing_factor * global_ctr) / (views_0 + smothing_factor)\n",
    "    ctrs_1 = (clicks_1 + smothing_factor * global_ctr) / (views_1 + smothing_factor)\n",
    "    return ctrs_0, ctrs_1"
   ]
  },
  {
   "cell_type": "code",
   "execution_count": 254,
   "metadata": {},
   "outputs": [],
   "source": [
    "ctrs_0, ctrs_1=get_smoothed_ctrs(clicks_0, views_0, clicks_1, views_1, smothing_factor=200.)"
   ]
  },
  {
   "cell_type": "code",
   "execution_count": 255,
   "metadata": {},
   "outputs": [],
   "source": [
    "def bootstrap(ctrs_0, weights_0, ctrs_1, weights_1, n_bootstrap=2000):\n",
    "    \"\"\"\n",
    "    Does weighted bootstrap and calculates p-value according to the bootstraped distribution\n",
    "    :param ctrs_0: np.array shape (n_experiments, n_users), CTRs of every user from control group in every experiment\n",
    "    :param weights_0: np.array (n_experiments, n_users), weight of every user from control group in every experiment\n",
    "    :param ctrs_1: np.array (n_experiments, n_users), CTRs of every user from treatment group in every experiment\n",
    "    :param weights_1: np.array (n_experiments, n_users), weight of every user from treatment group in every experiment\n",
    "    :param n_bootstrap: int - for every experiment wi will generate n_bootstrap bootstrap pseudo-samples\n",
    "    :return: np.array shape (n_experiments), two-sided p-values of weighted bootstrap test in all experimetns\n",
    "    \"\"\"\n",
    "    poisson_bootstraps = scipy.stats.poisson(1).rvs((n_bootstrap, ctrs_0.shape[1])).astype(np.int64)\n",
    "\n",
    "    values_0 = np.matmul(ctrs_0 * weights_0, poisson_bootstraps.T)\n",
    "    weights_0 = np.matmul(weights_0, poisson_bootstraps.T)\n",
    "\n",
    "    values_1 = np.matmul(ctrs_1 * weights_1, poisson_bootstraps.T)\n",
    "    weights_1 = np.matmul(weights_1, poisson_bootstraps.T)\n",
    "\n",
    "    deltas = values_1 / weights_1 - values_0 / weights_0\n",
    "\n",
    "    positions = np.sum(deltas < 0, axis=1)\n",
    "\n",
    "    return 2 * np.minimum(positions, n_bootstrap - positions) / n_bootstrap"
   ]
  },
  {
   "cell_type": "code",
   "execution_count": 256,
   "metadata": {},
   "outputs": [
    {
     "data": {
      "text/plain": [
       "array([0.569])"
      ]
     },
     "execution_count": 256,
     "metadata": {},
     "output_type": "execute_result"
    }
   ],
   "source": [
    "bootstrap(ctrs_0, weights_0, ctrs_1, weights_1, n_bootstrap=2000)"
   ]
  },
  {
   "cell_type": "markdown",
   "metadata": {},
   "source": [
    "**P-value > 0.05**, so the result is the same as in the Mann-Whitney test - **samples are homogeneous**."
   ]
  },
  {
   "cell_type": "markdown",
   "metadata": {},
   "source": [
    "#### Bucketing"
   ]
  },
  {
   "cell_type": "code",
   "execution_count": 257,
   "metadata": {},
   "outputs": [],
   "source": [
    "weights_0=np.ones((1,len(clicks_0)))\n",
    "weights_1=np.ones((1,len(clicks_1)))"
   ]
  },
  {
   "cell_type": "code",
   "execution_count": 258,
   "metadata": {},
   "outputs": [],
   "source": [
    "def bucketization(ctrs_0, weights_0, ctrs_1, weights_1, n_buckets=200):\n",
    "    \"\"\"\n",
    "    Does weighted bucketization and calculates p-values for all experiments using t_test\n",
    "    :param ctrs_0: np.array shape (n_experiments, n_users), CTRs of every user from control group in every experiment\n",
    "    :param weights_0: np.array (n_experiments, n_users), weight of every user from control group in every experiment\n",
    "    :param ctrs_1: np.array (n_experiments, n_users), CTRs of every user from treatment group in every experiment\n",
    "    :param weights_1: np.array (n_experiments, n_users), weight of every user from treatment group in every experiment\n",
    "    :param n_buckets: int, nubmer of buckets\n",
    "    :return: np.array shape (n_experiments), two-sided p-values of weighted bucketization test in all the experimetns\n",
    "    \"\"\"\n",
    "\n",
    "    n_experiments, n_users = ctrs_0.shape\n",
    "\n",
    "    values_0 = np.zeros((n_experiments, n_buckets))\n",
    "    values_1 = np.zeros((n_experiments, n_buckets))\n",
    "\n",
    "    for b in np.arange(n_buckets):\n",
    "        ind = np.arange(b * n_users / n_buckets, b * n_users / n_buckets + n_users / n_buckets).astype(np.int)\n",
    "        values_0[:, b] = np.sum(ctrs_0[:, ind] * weights_0[:, ind], axis=1) / np.sum(weights_0[:, ind], axis=1)\n",
    "        values_1[:, b] = np.sum(ctrs_1[:, ind] * weights_1[:, ind], axis=1) / np.sum(weights_1[:, ind], axis=1)\n",
    "\n",
    "    return np.mean(values_0), np.mean(values_1), t_test(values_0, values_1)"
   ]
  },
  {
   "cell_type": "code",
   "execution_count": 259,
   "metadata": {},
   "outputs": [
    {
     "data": {
      "text/plain": [
       "(0.721266637373293, 0.7212912266045107, array([0.59581539]))"
      ]
     },
     "execution_count": 259,
     "metadata": {},
     "output_type": "execute_result"
    }
   ],
   "source": [
    "bucketization(ctrs_0, weights_0, ctrs_1, weights_1, n_buckets=200)"
   ]
  },
  {
   "cell_type": "markdown",
   "metadata": {},
   "source": [
    "**P-value > 0.05**, so the result is the same as in the Mann-Whitney test - **samples are homogeneous**."
   ]
  },
  {
   "cell_type": "markdown",
   "metadata": {},
   "source": [
    "sample.bootstrap_test(sample_control, stat='mean', n_iters=100)"
   ]
  },
  {
   "cell_type": "markdown",
   "metadata": {},
   "source": [
    "### Order from the center => lower user cancellations"
   ]
  },
  {
   "cell_type": "markdown",
   "metadata": {},
   "source": [
    "**Hypothesis:** if you raise the cost of the order from the center as in the surge period (for example, by 10% more expensive), the average revenue per user will increase (+ secondary metric: conversion to cancellation will not increase), because when ordering from the center, the user is less likely to \"change their mind\" due to the urgency/importance of the trip."
   ]
  },
  {
   "cell_type": "code",
   "execution_count": 268,
   "metadata": {},
   "outputs": [],
   "source": [
    "data=pd.read_csv('new_dataframe.csv')"
   ]
  },
  {
   "cell_type": "code",
   "execution_count": 269,
   "metadata": {},
   "outputs": [
    {
     "data": {
      "text/plain": [
       "0.1172409849976168"
      ]
     },
     "execution_count": 269,
     "metadata": {},
     "output_type": "execute_result"
    }
   ],
   "source": [
    "#conversion to cancellation from the center\n",
    "a1=data[data['city_center_order']==1][['user_id','order_made', 'user_cancelled']].groupby('user_id').sum()\n",
    "a1['conversion']=a1['user_cancelled']/a1['order_made']\n",
    "a1['conversion'].fillna(0,inplace=True)\n",
    "a=list(a1['conversion'])\n",
    "mean(a)"
   ]
  },
  {
   "cell_type": "code",
   "execution_count": 270,
   "metadata": {},
   "outputs": [
    {
     "data": {
      "text/plain": [
       "0.16014277988861342"
      ]
     },
     "execution_count": 270,
     "metadata": {},
     "output_type": "execute_result"
    }
   ],
   "source": [
    "#conversion to cancellation not from the center\n",
    "a1=data[data['city_center_order']==0][['user_id','order_made', 'user_cancelled']].groupby('user_id').sum()\n",
    "a1['conversion']=a1['user_cancelled']/a1['order_made']\n",
    "a1['conversion'].fillna(0,inplace=True)\n",
    "a=list(a1['conversion'])\n",
    "mean(a)"
   ]
  },
  {
   "cell_type": "code",
   "execution_count": 271,
   "metadata": {},
   "outputs": [],
   "source": [
    "#leave in the data only those users who made an order from the center\n",
    "data=data[data['city_center_order']==1]"
   ]
  },
  {
   "cell_type": "code",
   "execution_count": 272,
   "metadata": {},
   "outputs": [
    {
     "data": {
      "text/plain": [
       "22279"
      ]
     },
     "execution_count": 272,
     "metadata": {},
     "output_type": "execute_result"
    }
   ],
   "source": [
    "#how many users stay\n",
    "data['user_id'].nunique()"
   ]
  },
  {
   "cell_type": "code",
   "execution_count": 275,
   "metadata": {},
   "outputs": [
    {
     "data": {
      "text/plain": [
       "5569"
      ]
     },
     "execution_count": 275,
     "metadata": {},
     "output_type": "execute_result"
    }
   ],
   "source": [
    "#we will divide into control and test not all of our data, but only 50% of them\n",
    "users=data['user_id'].unique()\n",
    "users=list(users)\n",
    "control_1=random.sample(users, int(len(users)/2))\n",
    "test_1=list(set(users)-set(control))\n",
    "control=random.sample(control_1, int(len(users)/4))\n",
    "test=random.sample(test_1, int(len(users)/4))\n",
    "len(control)"
   ]
  },
  {
   "cell_type": "code",
   "execution_count": 276,
   "metadata": {},
   "outputs": [],
   "source": [
    "data_control=data[data['user_id'].isin(control)]\n",
    "data_test=data[data['user_id'].isin(test)]"
   ]
  },
  {
   "cell_type": "code",
   "execution_count": 277,
   "metadata": {},
   "outputs": [],
   "source": [
    "#look at the number of orders made per user in each group\n",
    "q1=data_control.groupby('user_id')['city_center_order'].sum().to_list()\n",
    "q2=data_test.groupby('user_id')['city_center_order'].sum().to_list()"
   ]
  },
  {
   "cell_type": "code",
   "execution_count": 278,
   "metadata": {},
   "outputs": [
    {
     "name": "stdout",
     "output_type": "stream",
     "text": [
      "p-value:  0.0\n",
      "Sample does not look Gaussian (reject H0)\n"
     ]
    }
   ],
   "source": [
    "stat, p = shapiro(q1)\n",
    "alpha = 0.05\n",
    "print('p-value: ', p)\n",
    "if p > alpha:\n",
    "    print('Sample looks Gaussian (fail to reject H0)')\n",
    "else:\n",
    "    print('Sample does not look Gaussian (reject H0)')"
   ]
  },
  {
   "cell_type": "code",
   "execution_count": 279,
   "metadata": {},
   "outputs": [
    {
     "name": "stdout",
     "output_type": "stream",
     "text": [
      "p-value:  0.0\n",
      "Sample does not look Gaussian (reject H0)\n"
     ]
    }
   ],
   "source": [
    "stat, p = shapiro(q2)\n",
    "alpha = 0.05\n",
    "print('p-value: ', p)\n",
    "if p > alpha:\n",
    "    print('Sample looks Gaussian (fail to reject H0)')\n",
    "else:\n",
    "    print('Sample does not look Gaussian (reject H0)')"
   ]
  },
  {
   "cell_type": "code",
   "execution_count": 280,
   "metadata": {},
   "outputs": [
    {
     "data": {
      "text/plain": [
       "<matplotlib.axes._subplots.AxesSubplot at 0x22df9811908>"
      ]
     },
     "execution_count": 280,
     "metadata": {},
     "output_type": "execute_result"
    },
    {
     "data": {
      "image/png": "[encoded data removed]",
      "text/plain": [
       "<Figure size 432x288 with 1 Axes>"
      ]
     },
     "metadata": {
      "needs_background": "light"
     },
     "output_type": "display_data"
    }
   ],
   "source": [
    "data_control.groupby('user_id')['city_center_order'].sum().hist()"
   ]
  },
  {
   "cell_type": "markdown",
   "metadata": {},
   "source": [
    "Since the distributions are not normal, we cannot use the student's t-test to compare the means."
   ]
  },
  {
   "cell_type": "markdown",
   "metadata": {},
   "source": [
    "#### Mann-Whitney test"
   ]
  },
  {
   "cell_type": "code",
   "execution_count": 282,
   "metadata": {},
   "outputs": [
    {
     "name": "stdout",
     "output_type": "stream",
     "text": [
      "two-sample wilcoxon-test 0.18874173746722062\n"
     ]
    }
   ],
   "source": [
    "u, p_value = stats.mannwhitneyu(q1, q2)\n",
    "print(\"two-sample wilcoxon-test\", p_value)"
   ]
  },
  {
   "cell_type": "markdown",
   "metadata": {},
   "source": [
    "**P-value>0.05**, so the control group and the test group have the same distribution according to the metric \"average number of orders NOT from the center per user\""
   ]
  },
  {
   "cell_type": "markdown",
   "metadata": {},
   "source": [
    "**Baketing and bootstrap** we use to check for homogeneity by the metric **\"conversion to order cancellation per user\"**"
   ]
  },
  {
   "cell_type": "code",
   "execution_count": 283,
   "metadata": {},
   "outputs": [],
   "source": [
    "clicks_0=np.array(data_control.groupby('user_id')['user_cancelled'].sum())\n",
    "clicks_1=np.array(data_test.groupby('user_id')['user_cancelled'].sum())"
   ]
  },
  {
   "cell_type": "code",
   "execution_count": 284,
   "metadata": {},
   "outputs": [],
   "source": [
    "views_0=np.array(data_control.groupby('user_id')['order_made'].sum())\n",
    "views_1=np.array(data_test.groupby('user_id')['order_made'].sum())"
   ]
  },
  {
   "cell_type": "code",
   "execution_count": 285,
   "metadata": {},
   "outputs": [
    {
     "data": {
      "text/plain": [
       "array([1., 1., 1., ..., 1., 1., 1.])"
      ]
     },
     "execution_count": 285,
     "metadata": {},
     "output_type": "execute_result"
    }
   ],
   "source": [
    "weights_0=np.ones((len(clicks_0)))\n",
    "weights_1=np.ones((len(clicks_1)))\n",
    "weights_0"
   ]
  },
  {
   "cell_type": "markdown",
   "metadata": {},
   "source": [
    "Get the smoothed cancelled_from_made metric"
   ]
  },
  {
   "cell_type": "code",
   "execution_count": 286,
   "metadata": {},
   "outputs": [
    {
     "data": {
      "text/plain": [
       "(array([[0.13130411, 0.12698224, 0.13130411, ..., 0.12698224, 0.12511485,\n",
       "         0.12573118]]),\n",
       " array([[0.13130411, 0.13065729, 0.13065729, ..., 0.12698224, 0.12938258,\n",
       "         0.12511485]]))"
      ]
     },
     "execution_count": 286,
     "metadata": {},
     "output_type": "execute_result"
    }
   ],
   "source": [
    "ctrs_0, ctrs_1=get_smoothed_ctrs(clicks_0, views_0, clicks_1, views_1, smothing_factor=200.)\n",
    "ctrs_0, ctrs_1"
   ]
  },
  {
   "cell_type": "markdown",
   "metadata": {},
   "source": [
    "Using a bootstrap to evaluate sample homogeneity in terms of conversion to order cancellation"
   ]
  },
  {
   "cell_type": "code",
   "execution_count": 287,
   "metadata": {},
   "outputs": [
    {
     "data": {
      "text/plain": [
       "array([0.826])"
      ]
     },
     "execution_count": 287,
     "metadata": {},
     "output_type": "execute_result"
    }
   ],
   "source": [
    "bootstrap(ctrs_0, weights_0, ctrs_1, weights_1, n_bootstrap=2000)"
   ]
  },
  {
   "cell_type": "markdown",
   "metadata": {},
   "source": [
    "**P-value > 0.05 means that the samples are homogeneous**"
   ]
  },
  {
   "cell_type": "code",
   "execution_count": 288,
   "metadata": {},
   "outputs": [],
   "source": [
    "weights_0=np.ones((1,len(clicks_0)))\n",
    "weights_1=np.ones((1,len(clicks_1)))"
   ]
  },
  {
   "cell_type": "code",
   "execution_count": 289,
   "metadata": {},
   "outputs": [
    {
     "data": {
      "text/plain": [
       "(0.12762031938876806, 0.12762718471658607, array([0.88031219]))"
      ]
     },
     "execution_count": 289,
     "metadata": {},
     "output_type": "execute_result"
    }
   ],
   "source": [
    "bucketization(ctrs_0, weights_0, ctrs_1, weights_1, n_buckets=200)"
   ]
  },
  {
   "cell_type": "markdown",
   "metadata": {},
   "source": [
    "Same conclusion after bucketing"
   ]
  }
 ],
 "metadata": {
  "kernelspec": {
   "display_name": "Python 3",
   "language": "python",
   "name": "python3"
  },
  "language_info": {
   "codemirror_mode": {
    "name": "ipython",
    "version": 3
   },
   "file_extension": ".py",
   "mimetype": "text/x-python",
   "name": "python",
   "nbconvert_exporter": "python",
   "pygments_lexer": "ipython3",
   "version": "3.7.4"
  }
 },
 "nbformat": 4,
 "nbformat_minor": 2
}
