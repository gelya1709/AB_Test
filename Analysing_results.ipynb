{
  "nbformat": 4,
  "nbformat_minor": 0,
  "metadata": {
    "colab": {
      "provenance": [],
      "collapsed_sections": []
    },
    "kernelspec": {
      "name": "python3",
      "display_name": "Python 3"
    },
    "language_info": {
      "name": "python"
    }
  },
  "cells": [
    {
      "cell_type": "code",
      "execution_count": null,
      "metadata": {
        "id": "93t5XXBO7Ab7"
      },
      "outputs": [],
      "source": [
        "import pandas as pd\n",
        "import numpy as np\n",
        "import datetime as dt\n",
        "from statistics import mean, median\n",
        "%matplotlib inline\n",
        "import matplotlib.pyplot as plt\n",
        "from scipy.stats import shapiro\n",
        "import random\n",
        "from scipy import stats\n",
        "import scipy.stats\n",
        "from scipy.stats import mannwhitneyu"
      ]
    },
    {
      "cell_type": "code",
      "source": [
        "data=pd.read_csv('post_abtest_data.csv')\n",
        "data.head()"
      ],
      "metadata": {
        "colab": {
          "base_uri": "https://localhost:8080/",
          "height": 206
        },
        "id": "Uc88zbUV7JZd",
        "outputId": "87038cbf-ae5c-4817-b4ff-c548b85e7e91"
      },
      "execution_count": null,
      "outputs": [
        {
          "output_type": "execute_result",
          "data": {
            "text/plain": [
              "   user_id        date  app_opened    group  price_seen  order_made     surge  \\\n",
              "0   867689  2020-05-28           1  Control           1           1  no surge   \n",
              "1   867689  2020-05-29           1  Control           1           0     surge   \n",
              "2   867689  2020-05-25           1  Control           1           1     surge   \n",
              "3   752172  2020-05-29           1  Control           1           1     surge   \n",
              "4   752172  2020-05-28           1  Control           1           1  no surge   \n",
              "\n",
              "        os  user_cancelled  city_center_order   groups  \n",
              "0  Android             0.0                1.0  Control  \n",
              "1      iOS             NaN                NaN  Control  \n",
              "2  Android             0.0                0.0  Control  \n",
              "3  Android             0.0                1.0  Control  \n",
              "4      iOS             0.0                0.0  Control  "
            ],
            "text/html": [
              "\n",
              "  <div id=\"df-442e31ca-b5b3-4c77-b9a9-4376193bf414\">\n",
              "    <div class=\"colab-df-container\">\n",
              "      <div>\n",
              "<style scoped>\n",
              "    .dataframe tbody tr th:only-of-type {\n",
              "        vertical-align: middle;\n",
              "    }\n",
              "\n",
              "    .dataframe tbody tr th {\n",
              "        vertical-align: top;\n",
              "    }\n",
              "\n",
              "    .dataframe thead th {\n",
              "        text-align: right;\n",
              "    }\n",
              "</style>\n",
              "<table border=\"1\" class=\"dataframe\">\n",
              "  <thead>\n",
              "    <tr style=\"text-align: right;\">\n",
              "      <th></th>\n",
              "      <th>user_id</th>\n",
              "      <th>date</th>\n",
              "      <th>app_opened</th>\n",
              "      <th>group</th>\n",
              "      <th>price_seen</th>\n",
              "      <th>order_made</th>\n",
              "      <th>surge</th>\n",
              "      <th>os</th>\n",
              "      <th>user_cancelled</th>\n",
              "      <th>city_center_order</th>\n",
              "      <th>groups</th>\n",
              "    </tr>\n",
              "  </thead>\n",
              "  <tbody>\n",
              "    <tr>\n",
              "      <th>0</th>\n",
              "      <td>867689</td>\n",
              "      <td>2020-05-28</td>\n",
              "      <td>1</td>\n",
              "      <td>Control</td>\n",
              "      <td>1</td>\n",
              "      <td>1</td>\n",
              "      <td>no surge</td>\n",
              "      <td>Android</td>\n",
              "      <td>0.0</td>\n",
              "      <td>1.0</td>\n",
              "      <td>Control</td>\n",
              "    </tr>\n",
              "    <tr>\n",
              "      <th>1</th>\n",
              "      <td>867689</td>\n",
              "      <td>2020-05-29</td>\n",
              "      <td>1</td>\n",
              "      <td>Control</td>\n",
              "      <td>1</td>\n",
              "      <td>0</td>\n",
              "      <td>surge</td>\n",
              "      <td>iOS</td>\n",
              "      <td>NaN</td>\n",
              "      <td>NaN</td>\n",
              "      <td>Control</td>\n",
              "    </tr>\n",
              "    <tr>\n",
              "      <th>2</th>\n",
              "      <td>867689</td>\n",
              "      <td>2020-05-25</td>\n",
              "      <td>1</td>\n",
              "      <td>Control</td>\n",
              "      <td>1</td>\n",
              "      <td>1</td>\n",
              "      <td>surge</td>\n",
              "      <td>Android</td>\n",
              "      <td>0.0</td>\n",
              "      <td>0.0</td>\n",
              "      <td>Control</td>\n",
              "    </tr>\n",
              "    <tr>\n",
              "      <th>3</th>\n",
              "      <td>752172</td>\n",
              "      <td>2020-05-29</td>\n",
              "      <td>1</td>\n",
              "      <td>Control</td>\n",
              "      <td>1</td>\n",
              "      <td>1</td>\n",
              "      <td>surge</td>\n",
              "      <td>Android</td>\n",
              "      <td>0.0</td>\n",
              "      <td>1.0</td>\n",
              "      <td>Control</td>\n",
              "    </tr>\n",
              "    <tr>\n",
              "      <th>4</th>\n",
              "      <td>752172</td>\n",
              "      <td>2020-05-28</td>\n",
              "      <td>1</td>\n",
              "      <td>Control</td>\n",
              "      <td>1</td>\n",
              "      <td>1</td>\n",
              "      <td>no surge</td>\n",
              "      <td>iOS</td>\n",
              "      <td>0.0</td>\n",
              "      <td>0.0</td>\n",
              "      <td>Control</td>\n",
              "    </tr>\n",
              "  </tbody>\n",
              "</table>\n",
              "</div>\n",
              "      <button class=\"colab-df-convert\" onclick=\"convertToInteractive('df-442e31ca-b5b3-4c77-b9a9-4376193bf414')\"\n",
              "              title=\"Convert this dataframe to an interactive table.\"\n",
              "              style=\"display:none;\">\n",
              "        \n",
              "  <svg xmlns=\"http://www.w3.org/2000/svg\" height=\"24px\"viewBox=\"0 0 24 24\"\n",
              "       width=\"24px\">\n",
              "    <path d=\"M0 0h24v24H0V0z\" fill=\"none\"/>\n",
              "    <path d=\"M18.56 5.44l.94 2.06.94-2.06 2.06-.94-2.06-.94-.94-2.06-.94 2.06-2.06.94zm-11 1L8.5 8.5l.94-2.06 2.06-.94-2.06-.94L8.5 2.5l-.94 2.06-2.06.94zm10 10l.94 2.06.94-2.06 2.06-.94-2.06-.94-.94-2.06-.94 2.06-2.06.94z\"/><path d=\"M17.41 7.96l-1.37-1.37c-.4-.4-.92-.59-1.43-.59-.52 0-1.04.2-1.43.59L10.3 9.45l-7.72 7.72c-.78.78-.78 2.05 0 2.83L4 21.41c.39.39.9.59 1.41.59.51 0 1.02-.2 1.41-.59l7.78-7.78 2.81-2.81c.8-.78.8-2.07 0-2.86zM5.41 20L4 18.59l7.72-7.72 1.47 1.35L5.41 20z\"/>\n",
              "  </svg>\n",
              "      </button>\n",
              "      \n",
              "  <style>\n",
              "    .colab-df-container {\n",
              "      display:flex;\n",
              "      flex-wrap:wrap;\n",
              "      gap: 12px;\n",
              "    }\n",
              "\n",
              "    .colab-df-convert {\n",
              "      background-color: #E8F0FE;\n",
              "      border: none;\n",
              "      border-radius: 50%;\n",
              "      cursor: pointer;\n",
              "      display: none;\n",
              "      fill: #1967D2;\n",
              "      height: 32px;\n",
              "      padding: 0 0 0 0;\n",
              "      width: 32px;\n",
              "    }\n",
              "\n",
              "    .colab-df-convert:hover {\n",
              "      background-color: #E2EBFA;\n",
              "      box-shadow: 0px 1px 2px rgba(60, 64, 67, 0.3), 0px 1px 3px 1px rgba(60, 64, 67, 0.15);\n",
              "      fill: #174EA6;\n",
              "    }\n",
              "\n",
              "    [theme=dark] .colab-df-convert {\n",
              "      background-color: #3B4455;\n",
              "      fill: #D2E3FC;\n",
              "    }\n",
              "\n",
              "    [theme=dark] .colab-df-convert:hover {\n",
              "      background-color: #434B5C;\n",
              "      box-shadow: 0px 1px 3px 1px rgba(0, 0, 0, 0.15);\n",
              "      filter: drop-shadow(0px 1px 2px rgba(0, 0, 0, 0.3));\n",
              "      fill: #FFFFFF;\n",
              "    }\n",
              "  </style>\n",
              "\n",
              "      <script>\n",
              "        const buttonEl =\n",
              "          document.querySelector('#df-442e31ca-b5b3-4c77-b9a9-4376193bf414 button.colab-df-convert');\n",
              "        buttonEl.style.display =\n",
              "          google.colab.kernel.accessAllowed ? 'block' : 'none';\n",
              "\n",
              "        async function convertToInteractive(key) {\n",
              "          const element = document.querySelector('#df-442e31ca-b5b3-4c77-b9a9-4376193bf414');\n",
              "          const dataTable =\n",
              "            await google.colab.kernel.invokeFunction('convertToInteractive',\n",
              "                                                     [key], {});\n",
              "          if (!dataTable) return;\n",
              "\n",
              "          const docLinkHtml = 'Like what you see? Visit the ' +\n",
              "            '<a target=\"_blank\" href=https://colab.research.google.com/notebooks/data_table.ipynb>data table notebook</a>'\n",
              "            + ' to learn more about interactive tables.';\n",
              "          element.innerHTML = '';\n",
              "          dataTable['output_type'] = 'display_data';\n",
              "          await google.colab.output.renderOutput(dataTable, element);\n",
              "          const docLink = document.createElement('div');\n",
              "          docLink.innerHTML = docLinkHtml;\n",
              "          element.appendChild(docLink);\n",
              "        }\n",
              "      </script>\n",
              "    </div>\n",
              "  </div>\n",
              "  "
            ]
          },
          "metadata": {},
          "execution_count": 9
        }
      ]
    },
    {
      "cell_type": "markdown",
      "source": [
        "#### **Hypothesis:** When specifying whether the user is sure that the order is canceled outside the center, add a cat emoji asking not to cancel\n",
        "\n",
        "#### Expected: below cancellation on orders NOT from the center"
      ],
      "metadata": {
        "id": "VpMICaAM766F"
      }
    },
    {
      "cell_type": "code",
      "source": [
        "data.shape"
      ],
      "metadata": {
        "colab": {
          "base_uri": "https://localhost:8080/"
        },
        "id": "KvUwp8yq8d_-",
        "outputId": "b9c20995-fd4e-468b-839d-04a3b681ca1f"
      },
      "execution_count": null,
      "outputs": [
        {
          "output_type": "execute_result",
          "data": {
            "text/plain": [
              "(101500, 11)"
            ]
          },
          "metadata": {},
          "execution_count": 30
        }
      ]
    },
    {
      "cell_type": "code",
      "source": [
        "data1=data[data['city_center_order']==0]"
      ],
      "metadata": {
        "id": "CZGSS-CH8Amm"
      },
      "execution_count": null,
      "outputs": []
    },
    {
      "cell_type": "code",
      "source": [
        "data1.shape"
      ],
      "metadata": {
        "colab": {
          "base_uri": "https://localhost:8080/"
        },
        "id": "oymXEEzC8Tvg",
        "outputId": "89755e05-c540-4506-8f6d-bc99d79c7550"
      },
      "execution_count": null,
      "outputs": [
        {
          "output_type": "execute_result",
          "data": {
            "text/plain": [
              "(39499, 11)"
            ]
          },
          "metadata": {},
          "execution_count": 32
        }
      ]
    },
    {
      "cell_type": "code",
      "source": [
        "#calculate conversion to_cancelled\n",
        "a1=data1[['user_id','order_made', 'user_cancelled']].groupby('user_id').sum()\n",
        "a1['conversion']=a1['user_cancelled']/a1['order_made']\n",
        "a1=a1.rename_axis('user_id').reset_index()\n",
        "a1\n",
        "data2=data1.merge(a1[['user_id','conversion']], on='user_id',how='left')\n",
        "data2"
      ],
      "metadata": {
        "colab": {
          "base_uri": "https://localhost:8080/",
          "height": 423
        },
        "id": "JTh7A3Mz9ugd",
        "outputId": "0c2c34ec-0b99-4a83-ff57-ca0ea8e40b36"
      },
      "execution_count": null,
      "outputs": [
        {
          "output_type": "execute_result",
          "data": {
            "text/plain": [
              "       user_id        date  app_opened    group  price_seen  order_made  \\\n",
              "0       867689  2020-05-25           1  Control           1           1   \n",
              "1       752172  2020-05-28           1  Control           1           1   \n",
              "2       486559  2020-05-31           1  Control           1           1   \n",
              "3       486559  2020-05-30           1  Control           1           1   \n",
              "4       486559  2020-05-29           1  Control           1           1   \n",
              "...        ...         ...         ...      ...         ...         ...   \n",
              "39494   403957  2020-05-31           1     Test           1           1   \n",
              "39495   777242  2020-05-30           1     Test           1           1   \n",
              "39496   155474  2020-05-25           1     Test           1           1   \n",
              "39497   946650  2020-05-26           1     Test           1           1   \n",
              "39498   710188  2020-05-27           1     Test           1           1   \n",
              "\n",
              "          surge       os  user_cancelled  city_center_order   groups  \\\n",
              "0         surge  Android             0.0                0.0  Control   \n",
              "1      no surge      iOS             0.0                0.0  Control   \n",
              "2      no surge      iOS             0.0                0.0  Control   \n",
              "3      no surge  Android             0.0                0.0  Control   \n",
              "4      no surge  Android             0.0                0.0  Control   \n",
              "...         ...      ...             ...                ...      ...   \n",
              "39494     surge  Android             1.0                0.0     Test   \n",
              "39495  no surge      iOS             0.0                0.0     Test   \n",
              "39496  no surge  Android             0.0                0.0     Test   \n",
              "39497     surge  Android             0.0                0.0     Test   \n",
              "39498  no surge      iOS             1.0                0.0     Test   \n",
              "\n",
              "       conversion  \n",
              "0             0.0  \n",
              "1             0.0  \n",
              "2             0.0  \n",
              "3             0.0  \n",
              "4             0.0  \n",
              "...           ...  \n",
              "39494         1.0  \n",
              "39495         0.0  \n",
              "39496         0.0  \n",
              "39497         0.0  \n",
              "39498         1.0  \n",
              "\n",
              "[39499 rows x 12 columns]"
            ],
            "text/html": [
              "\n",
              "  <div id=\"df-aae4fa0b-46bf-4e82-b02b-6ea456d010aa\">\n",
              "    <div class=\"colab-df-container\">\n",
              "      <div>\n",
              "<style scoped>\n",
              "    .dataframe tbody tr th:only-of-type {\n",
              "        vertical-align: middle;\n",
              "    }\n",
              "\n",
              "    .dataframe tbody tr th {\n",
              "        vertical-align: top;\n",
              "    }\n",
              "\n",
              "    .dataframe thead th {\n",
              "        text-align: right;\n",
              "    }\n",
              "</style>\n",
              "<table border=\"1\" class=\"dataframe\">\n",
              "  <thead>\n",
              "    <tr style=\"text-align: right;\">\n",
              "      <th></th>\n",
              "      <th>user_id</th>\n",
              "      <th>date</th>\n",
              "      <th>app_opened</th>\n",
              "      <th>group</th>\n",
              "      <th>price_seen</th>\n",
              "      <th>order_made</th>\n",
              "      <th>surge</th>\n",
              "      <th>os</th>\n",
              "      <th>user_cancelled</th>\n",
              "      <th>city_center_order</th>\n",
              "      <th>groups</th>\n",
              "      <th>conversion</th>\n",
              "    </tr>\n",
              "  </thead>\n",
              "  <tbody>\n",
              "    <tr>\n",
              "      <th>0</th>\n",
              "      <td>867689</td>\n",
              "      <td>2020-05-25</td>\n",
              "      <td>1</td>\n",
              "      <td>Control</td>\n",
              "      <td>1</td>\n",
              "      <td>1</td>\n",
              "      <td>surge</td>\n",
              "      <td>Android</td>\n",
              "      <td>0.0</td>\n",
              "      <td>0.0</td>\n",
              "      <td>Control</td>\n",
              "      <td>0.0</td>\n",
              "    </tr>\n",
              "    <tr>\n",
              "      <th>1</th>\n",
              "      <td>752172</td>\n",
              "      <td>2020-05-28</td>\n",
              "      <td>1</td>\n",
              "      <td>Control</td>\n",
              "      <td>1</td>\n",
              "      <td>1</td>\n",
              "      <td>no surge</td>\n",
              "      <td>iOS</td>\n",
              "      <td>0.0</td>\n",
              "      <td>0.0</td>\n",
              "      <td>Control</td>\n",
              "      <td>0.0</td>\n",
              "    </tr>\n",
              "    <tr>\n",
              "      <th>2</th>\n",
              "      <td>486559</td>\n",
              "      <td>2020-05-31</td>\n",
              "      <td>1</td>\n",
              "      <td>Control</td>\n",
              "      <td>1</td>\n",
              "      <td>1</td>\n",
              "      <td>no surge</td>\n",
              "      <td>iOS</td>\n",
              "      <td>0.0</td>\n",
              "      <td>0.0</td>\n",
              "      <td>Control</td>\n",
              "      <td>0.0</td>\n",
              "    </tr>\n",
              "    <tr>\n",
              "      <th>3</th>\n",
              "      <td>486559</td>\n",
              "      <td>2020-05-30</td>\n",
              "      <td>1</td>\n",
              "      <td>Control</td>\n",
              "      <td>1</td>\n",
              "      <td>1</td>\n",
              "      <td>no surge</td>\n",
              "      <td>Android</td>\n",
              "      <td>0.0</td>\n",
              "      <td>0.0</td>\n",
              "      <td>Control</td>\n",
              "      <td>0.0</td>\n",
              "    </tr>\n",
              "    <tr>\n",
              "      <th>4</th>\n",
              "      <td>486559</td>\n",
              "      <td>2020-05-29</td>\n",
              "      <td>1</td>\n",
              "      <td>Control</td>\n",
              "      <td>1</td>\n",
              "      <td>1</td>\n",
              "      <td>no surge</td>\n",
              "      <td>Android</td>\n",
              "      <td>0.0</td>\n",
              "      <td>0.0</td>\n",
              "      <td>Control</td>\n",
              "      <td>0.0</td>\n",
              "    </tr>\n",
              "    <tr>\n",
              "      <th>...</th>\n",
              "      <td>...</td>\n",
              "      <td>...</td>\n",
              "      <td>...</td>\n",
              "      <td>...</td>\n",
              "      <td>...</td>\n",
              "      <td>...</td>\n",
              "      <td>...</td>\n",
              "      <td>...</td>\n",
              "      <td>...</td>\n",
              "      <td>...</td>\n",
              "      <td>...</td>\n",
              "      <td>...</td>\n",
              "    </tr>\n",
              "    <tr>\n",
              "      <th>39494</th>\n",
              "      <td>403957</td>\n",
              "      <td>2020-05-31</td>\n",
              "      <td>1</td>\n",
              "      <td>Test</td>\n",
              "      <td>1</td>\n",
              "      <td>1</td>\n",
              "      <td>surge</td>\n",
              "      <td>Android</td>\n",
              "      <td>1.0</td>\n",
              "      <td>0.0</td>\n",
              "      <td>Test</td>\n",
              "      <td>1.0</td>\n",
              "    </tr>\n",
              "    <tr>\n",
              "      <th>39495</th>\n",
              "      <td>777242</td>\n",
              "      <td>2020-05-30</td>\n",
              "      <td>1</td>\n",
              "      <td>Test</td>\n",
              "      <td>1</td>\n",
              "      <td>1</td>\n",
              "      <td>no surge</td>\n",
              "      <td>iOS</td>\n",
              "      <td>0.0</td>\n",
              "      <td>0.0</td>\n",
              "      <td>Test</td>\n",
              "      <td>0.0</td>\n",
              "    </tr>\n",
              "    <tr>\n",
              "      <th>39496</th>\n",
              "      <td>155474</td>\n",
              "      <td>2020-05-25</td>\n",
              "      <td>1</td>\n",
              "      <td>Test</td>\n",
              "      <td>1</td>\n",
              "      <td>1</td>\n",
              "      <td>no surge</td>\n",
              "      <td>Android</td>\n",
              "      <td>0.0</td>\n",
              "      <td>0.0</td>\n",
              "      <td>Test</td>\n",
              "      <td>0.0</td>\n",
              "    </tr>\n",
              "    <tr>\n",
              "      <th>39497</th>\n",
              "      <td>946650</td>\n",
              "      <td>2020-05-26</td>\n",
              "      <td>1</td>\n",
              "      <td>Test</td>\n",
              "      <td>1</td>\n",
              "      <td>1</td>\n",
              "      <td>surge</td>\n",
              "      <td>Android</td>\n",
              "      <td>0.0</td>\n",
              "      <td>0.0</td>\n",
              "      <td>Test</td>\n",
              "      <td>0.0</td>\n",
              "    </tr>\n",
              "    <tr>\n",
              "      <th>39498</th>\n",
              "      <td>710188</td>\n",
              "      <td>2020-05-27</td>\n",
              "      <td>1</td>\n",
              "      <td>Test</td>\n",
              "      <td>1</td>\n",
              "      <td>1</td>\n",
              "      <td>no surge</td>\n",
              "      <td>iOS</td>\n",
              "      <td>1.0</td>\n",
              "      <td>0.0</td>\n",
              "      <td>Test</td>\n",
              "      <td>1.0</td>\n",
              "    </tr>\n",
              "  </tbody>\n",
              "</table>\n",
              "<p>39499 rows × 12 columns</p>\n",
              "</div>\n",
              "      <button class=\"colab-df-convert\" onclick=\"convertToInteractive('df-aae4fa0b-46bf-4e82-b02b-6ea456d010aa')\"\n",
              "              title=\"Convert this dataframe to an interactive table.\"\n",
              "              style=\"display:none;\">\n",
              "        \n",
              "  <svg xmlns=\"http://www.w3.org/2000/svg\" height=\"24px\"viewBox=\"0 0 24 24\"\n",
              "       width=\"24px\">\n",
              "    <path d=\"M0 0h24v24H0V0z\" fill=\"none\"/>\n",
              "    <path d=\"M18.56 5.44l.94 2.06.94-2.06 2.06-.94-2.06-.94-.94-2.06-.94 2.06-2.06.94zm-11 1L8.5 8.5l.94-2.06 2.06-.94-2.06-.94L8.5 2.5l-.94 2.06-2.06.94zm10 10l.94 2.06.94-2.06 2.06-.94-2.06-.94-.94-2.06-.94 2.06-2.06.94z\"/><path d=\"M17.41 7.96l-1.37-1.37c-.4-.4-.92-.59-1.43-.59-.52 0-1.04.2-1.43.59L10.3 9.45l-7.72 7.72c-.78.78-.78 2.05 0 2.83L4 21.41c.39.39.9.59 1.41.59.51 0 1.02-.2 1.41-.59l7.78-7.78 2.81-2.81c.8-.78.8-2.07 0-2.86zM5.41 20L4 18.59l7.72-7.72 1.47 1.35L5.41 20z\"/>\n",
              "  </svg>\n",
              "      </button>\n",
              "      \n",
              "  <style>\n",
              "    .colab-df-container {\n",
              "      display:flex;\n",
              "      flex-wrap:wrap;\n",
              "      gap: 12px;\n",
              "    }\n",
              "\n",
              "    .colab-df-convert {\n",
              "      background-color: #E8F0FE;\n",
              "      border: none;\n",
              "      border-radius: 50%;\n",
              "      cursor: pointer;\n",
              "      display: none;\n",
              "      fill: #1967D2;\n",
              "      height: 32px;\n",
              "      padding: 0 0 0 0;\n",
              "      width: 32px;\n",
              "    }\n",
              "\n",
              "    .colab-df-convert:hover {\n",
              "      background-color: #E2EBFA;\n",
              "      box-shadow: 0px 1px 2px rgba(60, 64, 67, 0.3), 0px 1px 3px 1px rgba(60, 64, 67, 0.15);\n",
              "      fill: #174EA6;\n",
              "    }\n",
              "\n",
              "    [theme=dark] .colab-df-convert {\n",
              "      background-color: #3B4455;\n",
              "      fill: #D2E3FC;\n",
              "    }\n",
              "\n",
              "    [theme=dark] .colab-df-convert:hover {\n",
              "      background-color: #434B5C;\n",
              "      box-shadow: 0px 1px 3px 1px rgba(0, 0, 0, 0.15);\n",
              "      filter: drop-shadow(0px 1px 2px rgba(0, 0, 0, 0.3));\n",
              "      fill: #FFFFFF;\n",
              "    }\n",
              "  </style>\n",
              "\n",
              "      <script>\n",
              "        const buttonEl =\n",
              "          document.querySelector('#df-aae4fa0b-46bf-4e82-b02b-6ea456d010aa button.colab-df-convert');\n",
              "        buttonEl.style.display =\n",
              "          google.colab.kernel.accessAllowed ? 'block' : 'none';\n",
              "\n",
              "        async function convertToInteractive(key) {\n",
              "          const element = document.querySelector('#df-aae4fa0b-46bf-4e82-b02b-6ea456d010aa');\n",
              "          const dataTable =\n",
              "            await google.colab.kernel.invokeFunction('convertToInteractive',\n",
              "                                                     [key], {});\n",
              "          if (!dataTable) return;\n",
              "\n",
              "          const docLinkHtml = 'Like what you see? Visit the ' +\n",
              "            '<a target=\"_blank\" href=https://colab.research.google.com/notebooks/data_table.ipynb>data table notebook</a>'\n",
              "            + ' to learn more about interactive tables.';\n",
              "          element.innerHTML = '';\n",
              "          dataTable['output_type'] = 'display_data';\n",
              "          await google.colab.output.renderOutput(dataTable, element);\n",
              "          const docLink = document.createElement('div');\n",
              "          docLink.innerHTML = docLinkHtml;\n",
              "          element.appendChild(docLink);\n",
              "        }\n",
              "      </script>\n",
              "    </div>\n",
              "  </div>\n",
              "  "
            ]
          },
          "metadata": {},
          "execution_count": 33
        }
      ]
    },
    {
      "cell_type": "code",
      "source": [
        "data1['date']=data1['date'].astype(str)\n",
        "data1['date'] = data1['date'].apply(lambda x: dt.datetime.strptime(x,'%Y-%m-%d'))\n",
        "data1['date'] = pd.to_datetime(data1['date'])"
      ],
      "metadata": {
        "id": "euE1yAbG9hXo",
        "colab": {
          "base_uri": "https://localhost:8080/"
        },
        "outputId": "d20589f8-3104-444b-e38e-1dcea55166d8"
      },
      "execution_count": null,
      "outputs": [
        {
          "output_type": "stream",
          "name": "stderr",
          "text": [
            "/usr/local/lib/python3.7/dist-packages/ipykernel_launcher.py:1: SettingWithCopyWarning: \n",
            "A value is trying to be set on a copy of a slice from a DataFrame.\n",
            "Try using .loc[row_indexer,col_indexer] = value instead\n",
            "\n",
            "See the caveats in the documentation: https://pandas.pydata.org/pandas-docs/stable/user_guide/indexing.html#returning-a-view-versus-a-copy\n",
            "  \"\"\"Entry point for launching an IPython kernel.\n",
            "/usr/local/lib/python3.7/dist-packages/ipykernel_launcher.py:2: SettingWithCopyWarning: \n",
            "A value is trying to be set on a copy of a slice from a DataFrame.\n",
            "Try using .loc[row_indexer,col_indexer] = value instead\n",
            "\n",
            "See the caveats in the documentation: https://pandas.pydata.org/pandas-docs/stable/user_guide/indexing.html#returning-a-view-versus-a-copy\n",
            "  \n",
            "/usr/local/lib/python3.7/dist-packages/ipykernel_launcher.py:3: SettingWithCopyWarning: \n",
            "A value is trying to be set on a copy of a slice from a DataFrame.\n",
            "Try using .loc[row_indexer,col_indexer] = value instead\n",
            "\n",
            "See the caveats in the documentation: https://pandas.pydata.org/pandas-docs/stable/user_guide/indexing.html#returning-a-view-versus-a-copy\n",
            "  This is separate from the ipykernel package so we can avoid doing imports until\n"
          ]
        }
      ]
    },
    {
      "cell_type": "markdown",
      "source": [
        "### New loop for periodic p-value"
      ],
      "metadata": {
        "id": "GQ3Ti-17cehJ"
      }
    },
    {
      "cell_type": "code",
      "source": [
        "#calculate periodical p-value for users from control and test gropus\n",
        "ttest=[]\n",
        "control_metrics=[]\n",
        "test_metrics=[]\n",
        "for data in data1['date'].sort_values(ascending=True).unique():\n",
        "  data2=data1[data1['date']==data]\n",
        "  a1=data2.groupby('user_id').agg({'group':'unique','order_made':'sum', 'user_cancelled': 'sum'})\n",
        "\n",
        "  a1['conversion']=a1['user_cancelled']/a1['order_made']\n",
        "  a1['group']=[i[0] for i in a1['group']]\n",
        "  a1=a1.rename_axis('user_id').reset_index()\n",
        "  \n",
        "  control=a1[a1['group']=='Control']['conversion'].to_list()\n",
        "  control_metrics.append(mean(control))\n",
        "  test=a1[a1['group']=='Test']['conversion'].to_list()\n",
        "  test_metrics.append(mean(test))\n",
        "  ttest.append(stats.ttest_ind(control, test)[1])\n",
        "  print(ttest)"
      ],
      "metadata": {
        "id": "DQuIK-LI8jm-",
        "colab": {
          "base_uri": "https://localhost:8080/"
        },
        "outputId": "29378628-edba-48f5-a839-8f5f0e8c2feb"
      },
      "execution_count": null,
      "outputs": [
        {
          "output_type": "stream",
          "name": "stdout",
          "text": [
            "[0.36848311114829835]\n",
            "[0.36848311114829835, 0.6111710891532758]\n",
            "[0.36848311114829835, 0.6111710891532758, 0.09157547666074262]\n",
            "[0.36848311114829835, 0.6111710891532758, 0.09157547666074262, 0.3764575232197056]\n",
            "[0.36848311114829835, 0.6111710891532758, 0.09157547666074262, 0.3764575232197056, 0.13260853142032983]\n",
            "[0.36848311114829835, 0.6111710891532758, 0.09157547666074262, 0.3764575232197056, 0.13260853142032983, 0.25315398202393957]\n",
            "[0.36848311114829835, 0.6111710891532758, 0.09157547666074262, 0.3764575232197056, 0.13260853142032983, 0.25315398202393957, 0.6263643281654507]\n"
          ]
        }
      ]
    },
    {
      "cell_type": "code",
      "source": [
        "#visualize received p-value\n",
        "dates=data1['date'].sort_values(ascending=True).unique()\n",
        "plt.bar(dates, ttest)\n",
        "plt.xticks(rotation=45)\n",
        "plt.show()"
      ],
      "metadata": {
        "colab": {
          "base_uri": "https://localhost:8080/",
          "height": 303
        },
        "id": "2Om38TyKct8P",
        "outputId": "0214cf73-f610-4768-8099-311252fbb5ee"
      },
      "execution_count": null,
      "outputs": [
        {
          "output_type": "display_data",
          "data": {
            "text/plain": [
              "<Figure size 432x288 with 1 Axes>"
            ],
            "image/png": "[encoded data removed]"
          },
          "metadata": {
            "needs_background": "light"
          }
        }
      ]
    },
    {
      "cell_type": "markdown",
      "source": [
        "**Other values turned out...**"
      ],
      "metadata": {
        "id": "HNESBogwcw3b"
      }
    },
    {
      "cell_type": "markdown",
      "source": [
        "**P-value Conclusion:** P-value is below 0.05 for 5 days out of 7. Two days (June 26 and 31) p-value is above 0.05. But it does not exceed even 0.07 these days, so we can conclude that the difference in the means for the control and test groups is statistically significant."
      ],
      "metadata": {
        "id": "l2rjP5puf0VQ"
      }
    },
    {
      "cell_type": "markdown",
      "source": [
        "### Old loop for periodic p-value"
      ],
      "metadata": {
        "id": "3nLqQXfIcm3Y"
      }
    },
    {
      "cell_type": "code",
      "source": [
        "#calculate periodic p-value for users from control and test groups\n",
        "ttest=[]\n",
        "control_metrics=[]\n",
        "test_metrics=[]\n",
        "for data in data1['date'].sort_values(ascending=True).unique():\n",
        "  data2=data1[data1['date']==data]\n",
        "\n",
        "  a1=data2[['user_id','order_made', 'user_cancelled']].groupby('user_id').sum()\n",
        "  a1['conversion']=a1['user_cancelled']/a1['order_made']\n",
        "  a1=a1.rename_axis('user_id').reset_index()\n",
        "  data3=data2.merge(a1[['user_id','conversion']], on='user_id',how='left')\n",
        "  control=data3[data3['group']=='Control']['conversion'].to_list()\n",
        "  control_metrics.append(mean(control))\n",
        "  test=data3[data3['group']=='Test']['conversion'].to_list()\n",
        "  test_metrics.append(mean(test))\n",
        "  ttest.append(stats.ttest_ind(control, test)[1])"
      ],
      "metadata": {
        "id": "iw9aB-AkcU-L"
      },
      "execution_count": null,
      "outputs": []
    },
    {
      "cell_type": "code",
      "source": [
        "#visualize received p-value\n",
        "dates=data1['date'].sort_values(ascending=True).unique()\n",
        "plt.bar(dates, ttest)\n",
        "plt.xticks(rotation=45)\n",
        "plt.show()"
      ],
      "metadata": {
        "colab": {
          "base_uri": "https://localhost:8080/",
          "height": 303
        },
        "id": "NccOvHaW89Eo",
        "outputId": "3deec3a9-51b4-4105-c83b-72f94a5fe277"
      },
      "execution_count": null,
      "outputs": [
        {
          "output_type": "display_data",
          "data": {
            "text/plain": [
              "<Figure size 432x288 with 1 Axes>"
            ],
            "image/png": "[encoded data removed]"
          },
          "metadata": {
            "needs_background": "light"
          }
        }
      ]
    },
    {
      "cell_type": "markdown",
      "source": [
        "### Let's forget about the old loop and look at the difference in to_cancelled conversions for test and control groups:\n",
        "\n",
        "\n"
      ],
      "metadata": {
        "id": "TbjMHjRLCMQn"
      }
    },
    {
      "cell_type": "code",
      "source": [
        "#difference in conversion for test and control groups\n",
        "\n",
        "dates=list(data1['date'].sort_values(ascending=True).unique())\n",
        "print(dates)\n",
        "X_axis = np.arange(len(dates))\n",
        "  \n",
        "plt.barh(X_axis - 0.2, control_metrics, 0.4, label = 'Control', color='c')\n",
        "plt.barh(X_axis + 0.2, test_metrics, 0.4, label = 'Test', color='y')\n",
        "  \n",
        "plt.yticks(X_axis, dates)\n",
        "#plt.xticks(rotation=45)\n",
        "plt.ylabel(\"Days\")\n",
        "plt.xlabel(\"To_cancelled_meric\")\n",
        "plt.legend(loc=(1.04,0))\n",
        "plt.show()\n"
      ],
      "metadata": {
        "colab": {
          "base_uri": "https://localhost:8080/",
          "height": 317
        },
        "id": "y8FkCwHsCVgS",
        "outputId": "fb4207d4-8b2d-4dff-a1d0-a52bf8f6ce98"
      },
      "execution_count": null,
      "outputs": [
        {
          "output_type": "stream",
          "name": "stdout",
          "text": [
            "[numpy.datetime64('2020-05-25T00:00:00.000000000'), numpy.datetime64('2020-05-26T00:00:00.000000000'), numpy.datetime64('2020-05-27T00:00:00.000000000'), numpy.datetime64('2020-05-28T00:00:00.000000000'), numpy.datetime64('2020-05-29T00:00:00.000000000'), numpy.datetime64('2020-05-30T00:00:00.000000000'), numpy.datetime64('2020-05-31T00:00:00.000000000')]\n"
          ]
        },
        {
          "output_type": "display_data",
          "data": {
            "text/plain": [
              "<Figure size 432x288 with 1 Axes>"
            ],
            "image/png": "[encoded data removed]"
          },
          "metadata": {
            "needs_background": "light"
          }
        }
      ]
    },
    {
      "cell_type": "markdown",
      "source": [
        "**Contradiction:** it turns out that in the data, the conversion to trip cancellation is higher either for the test group or for the control group. Which is very strange and obviously cannot confirm our hypothesis. Even though the p-value shows the stat significance of the difference, we can see that there are both positive and negative effects of the new feature.\n",
        "\n",
        "**Look at the total p-value for the whole week of the test.**"
      ],
      "metadata": {
        "id": "kk6OfhuTDxMc"
      }
    },
    {
      "cell_type": "code",
      "source": [
        "#common conversion for test and control group\n",
        "a1=data1[['user_id','order_made', 'user_cancelled']].groupby('user_id').sum()\n",
        "a1['conversion']=a1['user_cancelled']/a1['order_made']\n",
        "a1=a1.rename_axis('user_id').reset_index()\n",
        "data2=data1.merge(a1[['user_id','conversion']], on='user_id',how='left')\n",
        "data2=data2.drop_duplicates('user_id')\n",
        "controll=data2[data2['group']=='Control']['conversion']\n",
        "testt=data2[data2['group']=='Test']['conversion']"
      ],
      "metadata": {
        "id": "rUxJ8mTUF94u"
      },
      "execution_count": null,
      "outputs": []
    },
    {
      "cell_type": "code",
      "source": [
        "stats.ttest_ind(controll, testt)"
      ],
      "metadata": {
        "colab": {
          "base_uri": "https://localhost:8080/"
        },
        "id": "D3fYLV37Et6L",
        "outputId": "dde00707-dfb9-4770-ffe3-f7cf9b78068e"
      },
      "execution_count": null,
      "outputs": [
        {
          "output_type": "execute_result",
          "data": {
            "text/plain": [
              "Ttest_indResult(statistic=1.4967989600215057, pvalue=0.13446170055046427)"
            ]
          },
          "metadata": {},
          "execution_count": 47
        }
      ]
    },
    {
      "cell_type": "markdown",
      "source": [
        "Which was what was required to be proved...if, of course, I did everything right...the total p-value > 0.05, then our difference is not statistically significant."
      ],
      "metadata": {
        "id": "6IScza6QGuE8"
      }
    },
    {
      "cell_type": "markdown",
      "source": [
        "Just in case and for the sake of interest, let's calculate the **cumulative p-value**"
      ],
      "metadata": {
        "id": "kJJhO42cMEJw"
      }
    },
    {
      "cell_type": "code",
      "source": [
        "#calculate cumulative p-value for users from control and test groups\n",
        "ttest=[]\n",
        "control_metrics=[]\n",
        "test_metrics=[]\n",
        "data2=data1[data1['date']==data1['date'].sort_values(ascending=True).unique()[0]]\n",
        "a1=data2.groupby('user_id').agg({'group':'unique','order_made':'sum', 'user_cancelled': 'sum'})\n",
        "a1['conversion']=a1['user_cancelled']/a1['order_made']\n",
        "a1['group']=[i[0] for i in a1['group']]\n",
        "a1=a1.rename_axis('user_id').reset_index()\n",
        "  \n",
        "control=a1[a1['group']=='Control']['conversion'].to_list()\n",
        "control_metrics.append(mean(control))\n",
        "test=a1[a1['group']=='Test']['conversion'].to_list()\n",
        "test_metrics.append(mean(test))\n",
        "ttest.append(stats.ttest_ind(control, test)[1])\n",
        "\n",
        "for data in data1['date'].sort_values(ascending=True).unique()[1:]:\n",
        "  data2=pd.concat([data2,data1[data1['date']==data]])\n",
        "  a1=data2.groupby('user_id').agg({'group':'unique','order_made':'sum', 'user_cancelled': 'sum'})\n",
        "\n",
        "  a1['conversion']=a1['user_cancelled']/a1['order_made']\n",
        "  a1['group']=[i[0] for i in a1['group']]\n",
        "  a1=a1.rename_axis('user_id').reset_index()\n",
        "  \n",
        "  control=a1[a1['group']=='Control']['conversion'].to_list()\n",
        "  control_metrics.append(mean(control))\n",
        "  test=a1[a1['group']=='Test']['conversion'].to_list()\n",
        "  test_metrics.append(mean(test))\n",
        "  ttest.append(stats.ttest_ind(control, test)[1])"
      ],
      "metadata": {
        "id": "156QnjS4HucK"
      },
      "execution_count": null,
      "outputs": []
    },
    {
      "cell_type": "code",
      "source": [
        "#visualise cumulative p-value\n",
        "dates=data1['date'].sort_values(ascending=True).unique()\n",
        "plt.bar(dates, ttest)\n",
        "plt.xticks(rotation=45)\n",
        "plt.show()"
      ],
      "metadata": {
        "colab": {
          "base_uri": "https://localhost:8080/",
          "height": 303
        },
        "id": "Wi7_tHseIJKZ",
        "outputId": "0fd90ac5-e2e3-45c8-990e-274061fbf1b6"
      },
      "execution_count": null,
      "outputs": [
        {
          "output_type": "display_data",
          "data": {
            "text/plain": [
              "<Figure size 432x288 with 1 Axes>"
            ],
            "image/png": "[encoded data removed]"
          },
          "metadata": {
            "needs_background": "light"
          }
        }
      ]
    },
    {
      "cell_type": "markdown",
      "source": [
        "**Result:** you shouldn't add cats, even though the p-value indicates that the results of the stat are significant (some days), the difference in conversions between the test and control groups is either positive or negative"
      ],
      "metadata": {
        "id": "-b4lBD-rMg1R"
      }
    }
  ]
}